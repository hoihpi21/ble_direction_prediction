{
 "cells": [
  {
   "cell_type": "markdown",
   "metadata": {},
   "source": [
    "# 1. Import Required Libraries"
   ]
  },
  {
   "cell_type": "code",
   "execution_count": null,
   "metadata": {},
   "outputs": [],
   "source": [
    "import os\n",
    "import numpy as np\n",
    "import pandas as pd\n",
    "import matplotlib.pyplot as plt\n",
    "import json\n",
    "from sklearn.model_selection import train_test_split\n",
    "from sklearn.ensemble import RandomForestRegressor\n",
    "from sklearn.metrics import mean_squared_error\n",
    "\n",
    "# Directory for saving outputs\n",
    "output_result = 'rf_output'\n",
    "\n",
    "# Ensure directories exist\n",
    "os.makedirs(output_result, exist_ok=True)"
   ]
  },
  {
   "cell_type": "markdown",
   "metadata": {},
   "source": [
    "# 2.  Load & Clean Data "
   ]
  },
  {
   "cell_type": "code",
   "execution_count": null,
   "metadata": {},
   "outputs": [],
   "source": [
    "df = pd.read_csv(\"21.5.2025.csv\")  \n",
    "df = df[['timestamp', 'x_snap', 'y_snap']].dropna()\n",
    "df = df.sort_values(by='timestamp').reset_index(drop=True)"
   ]
  },
  {
   "cell_type": "code",
   "execution_count": null,
   "metadata": {},
   "outputs": [],
   "source": [
    "df"
   ]
  },
  {
   "cell_type": "markdown",
   "metadata": {},
   "source": [
    "# 3. IQR Outlier Removal + Kalman Filter"
   ]
  },
  {
   "cell_type": "code",
   "execution_count": null,
   "metadata": {},
   "outputs": [],
   "source": [
    "def iqr_filter(series):\n",
    "    Q1 = series.quantile(0.25)\n",
    "    Q3 = series.quantile(0.75)\n",
    "    IQR = Q3 - Q1\n",
    "    lower = Q1 - 1.5 * IQR\n",
    "    upper = Q3 + 1.5 * IQR\n",
    "    return series.between(lower, upper)\n",
    "\n",
    "mask = iqr_filter(df['x_snap']) & iqr_filter(df['y_snap'])\n",
    "df = df[mask].reset_index(drop=True)\n",
    "\n",
    "def kalman_filter_1d(data, process_var=1e-3, meas_var=0.108**2):\n",
    "# def kalman_filter_1d(data, process_var=1e-05, meas_var=1e-7):\n",
    "    n = len(data)\n",
    "    xhat = np.zeros(n)\n",
    "    P = np.zeros(n)\n",
    "    xhat[0] = data[0]\n",
    "    P[0] = 1.0\n",
    "    for k in range(1, n):\n",
    "        xhat[k] = xhat[k-1]\n",
    "        P[k] = P[k-1] + process_var\n",
    "        K = P[k] / (P[k] + meas_var)\n",
    "        xhat[k] = xhat[k] + K * (data[k] - xhat[k])\n",
    "        P[k] = (1 - K) * P[k]\n",
    "    return xhat\n",
    "\n",
    "df['x_kalman'] = kalman_filter_1d(df['x_snap'].values)\n",
    "df['y_kalman'] = kalman_filter_1d(df['y_snap'].values)"
   ]
  },
  {
   "cell_type": "code",
   "execution_count": null,
   "metadata": {},
   "outputs": [],
   "source": [
    "# --- Remove the last 20 points from the history trajectory ---\n",
    "# df = df.iloc[:-20].reset_index(drop=True)\n",
    "df"
   ]
  },
  {
   "cell_type": "markdown",
   "metadata": {},
   "source": [
    "# 4. Create Sliding Window Dataset"
   ]
  },
  {
   "cell_type": "code",
   "execution_count": null,
   "metadata": {},
   "outputs": [],
   "source": [
    "# === Create sliding window input features ===\n",
    "window_size = 11\n",
    "\n",
    "X, y = [], []\n",
    "for i in range(window_size, len(df) - 1):\n",
    "    window = df[['x_kalman', 'y_kalman']].iloc[i-window_size:i].values.flatten()\n",
    "    next_pos = df[['x_kalman', 'y_kalman']].iloc[i + 1].values\n",
    "    X.append(window)\n",
    "    y.append(next_pos)\n",
    "\n",
    "X = np.array(X)\n",
    "y = np.array(y)\n"
   ]
  },
  {
   "cell_type": "code",
   "execution_count": null,
   "metadata": {},
   "outputs": [],
   "source": [
    "X.shape, y.shape"
   ]
  },
  {
   "cell_type": "markdown",
   "metadata": {},
   "source": [
    "# 5. Train/ Val/ Test/ GT Split"
   ]
  },
  {
   "cell_type": "code",
   "execution_count": null,
   "metadata": {},
   "outputs": [],
   "source": [
    "X_trainval, X_test_gt, y_trainval, y_test_gt = train_test_split(X, y, test_size=0.3, random_state=42)\n",
    "X_train, X_val, y_train, y_val = train_test_split(X_trainval, y_trainval, test_size=0.125, random_state=42)\n",
    "X_test, X_gt, y_test, y_gt = train_test_split(X_test_gt, y_test_gt, test_size=0.5, random_state=42)"
   ]
  },
  {
   "cell_type": "code",
   "execution_count": null,
   "metadata": {},
   "outputs": [],
   "source": [
    "X_test.shape, X_gt.shape, X_trainval.shape, X_test_gt.shape"
   ]
  },
  {
   "cell_type": "markdown",
   "metadata": {},
   "source": [
    "# 6. Train Random Forest"
   ]
  },
  {
   "cell_type": "code",
   "execution_count": null,
   "metadata": {},
   "outputs": [],
   "source": [
    "model = RandomForestRegressor(\n",
    "    n_estimators=100, \n",
    "    max_depth=None, \n",
    "    random_state=42,\n",
    "    )\n",
    "\n",
    "# Fit Model \n",
    "model.fit(X_train, y_train)\n",
    "\n",
    "# Predict\n",
    "y_train_pred = model.predict(X_train)\n",
    "y_val_pred = model.predict(X_val)\n",
    "y_test_pred = model.predict(X_test)\n",
    "\n",
    "# Compute RMSE\n",
    "train_rmse = np.sqrt(mean_squared_error(y_train, y_train_pred))\n",
    "val_rmse = np.sqrt(mean_squared_error(y_val, y_val_pred))\n",
    "test_rmse = np.sqrt(mean_squared_error(y_test, y_test_pred))\n",
    "\n",
    "print(f\"Train RMSE: {train_rmse:.4f}\")\n",
    "print(f\"Validation RMSE: {val_rmse:.4f}\")\n",
    "print(f\"Test RMSE: {test_rmse:.4f}\")"
   ]
  },
  {
   "cell_type": "markdown",
   "metadata": {},
   "source": [
    "# 7. Recursive 10-Step Prediction "
   ]
  },
  {
   "cell_type": "code",
   "execution_count": null,
   "metadata": {},
   "outputs": [],
   "source": [
    "def predict_recursive(model, start_window, n_steps=20):\n",
    "    preds = []\n",
    "    window = start_window.copy()\n",
    "    for _ in range(n_steps):\n",
    "        pred = model.predict(window.reshape(1, -1))[0]\n",
    "        preds.append(pred)\n",
    "        window = np.roll(window, -2)\n",
    "        window[-2:] = pred\n",
    "    return np.array(preds)\n",
    "\n",
    "start_window = X_gt[0]\n",
    "n_steps=10\n",
    "pred_path = predict_recursive(model, start_window, n_steps=n_steps)"
   ]
  },
  {
   "cell_type": "markdown",
   "metadata": {},
   "source": [
    "# 8. Extract True Ground Truth Path"
   ]
  },
  {
   "cell_type": "code",
   "execution_count": null,
   "metadata": {},
   "outputs": [],
   "source": [
    "# Locate index in DataFrame\n",
    "start_x, start_y = start_window[-2], start_window[-1]\n",
    "dists = np.sqrt((df['x_kalman'] - start_x)**2 + (df['y_kalman'] - start_y)**2)\n",
    "start_idx = dists.idxmin()\n",
    "\n",
    "true_gt_path = df[['x_kalman', 'y_kalman']].iloc[start_idx + 1: start_idx + 1 + n_steps].values"
   ]
  },
  {
   "cell_type": "markdown",
   "metadata": {},
   "source": [
    "# 9. Plot Reference, Trajectories & Save"
   ]
  },
  {
   "cell_type": "code",
   "execution_count": null,
   "metadata": {},
   "outputs": [],
   "source": [
    "os.makedirs(\"rf_output\", exist_ok=True)\n",
    "\n",
    "polygon_json = \"{\\\"l1\\\":[[27.05,12.7,0],[81.19,12.7,0]],\\\"l2\\\":[[81.19,12.7,0],[81.19,28.87,0]],\\\"l3\\\":[[81.19,28.87,0],[27.05,28.87,0]],\\\"l4\\\":[[27.05,28.87,0],[27.05,12.7,0]]}\"\n",
    "polygon = json.loads(polygon_json)\n",
    "\n",
    "def draw_ref_lines():\n",
    "    for line in polygon.values():\n",
    "        x = [p[0] for p in line]\n",
    "        y = [p[1] for p in line]\n",
    "        plt.plot(x, y, 'k--')\n",
    "\n",
    "# Raw + ref\n",
    "plt.figure(figsize=(8, 6))\n",
    "draw_ref_lines()\n",
    "plt.plot(df['x_snap'], df['y_snap'], color='gray', label='Raw')\n",
    "plt.title(\"Raw Trajectory + Reference\")\n",
    "plt.savefig(\"rf_output/raw_reference.png\")\n",
    "\n",
    "# Filtered Path with Polygon Line\n",
    "plt.scatter(df['x_kalman'].iloc[0], df['y_kalman'].iloc[0], color='green', s=100, marker='s', label='Start')\n",
    "plt.scatter(df['x_kalman'].iloc[-1], df['y_kalman'].iloc[-1], color='red', s=100, marker='*', label='End')\n",
    "plt.title(\"Filtered Trajectory with Reference Polygon\")\n",
    "plt.savefig(\"rf_output/filtered_with_polygon.png\")\n",
    "\n",
    "# True vs Pred\n",
    "plt.figure(figsize=(8, 6))\n",
    "draw_ref_lines()\n",
    "plt.plot(true_gt_path[:, 0], true_gt_path[:, 1], 'g-o', label='True GT')\n",
    "plt.plot(pred_path[:, 0], pred_path[:, 1], 'b--o', label='Predicted')\n",
    "plt.title(\"10-Step Predicted vs True Ground Truth\")\n",
    "plt.legend()\n",
    "plt.savefig(\"rf_output/true_gt_vs_predicted.png\")"
   ]
  },
  {
   "cell_type": "markdown",
   "metadata": {},
   "source": [
    "# 10. Plot Losses as Line Chart"
   ]
  },
  {
   "cell_type": "code",
   "execution_count": null,
   "metadata": {},
   "outputs": [],
   "source": [
    "plt.figure(figsize=(6, 5))\n",
    "loss_labels = ['Train', 'Validation', 'Test']\n",
    "loss_values = [train_rmse, val_rmse, test_rmse]\n",
    "\n",
    "plt.plot(loss_labels, loss_values, marker='o', linestyle='-', color='blue')\n",
    "for i, val in enumerate(loss_values):\n",
    "    plt.text(i, val + 0.01, f\"{val:.3f}\", ha='center')\n",
    "plt.title(\"RMSE Loss Curve\")\n",
    "plt.ylabel(\"RMSE\")\n",
    "plt.grid(True)\n",
    "plt.tight_layout()\n",
    "plt.savefig(\"rf_output/loss_line_plot.png\")\n",
    "plt.show()"
   ]
  },
  {
   "cell_type": "markdown",
   "metadata": {},
   "source": [
    "# 11. Euclidean Distance + Plot + CSV file"
   ]
  },
  {
   "cell_type": "code",
   "execution_count": null,
   "metadata": {},
   "outputs": [],
   "source": [
    "def euclidean(p1, p2):\n",
    "    return np.sqrt((p1[0] - p2[0])**2 + (p1[1] - p2[1])**2)\n",
    "\n",
    "step_errors = [euclidean(p, g) for p, g in zip(pred_path, true_gt_path)]\n",
    "avg_error =  np.mean(step_errors)\n",
    "\n",
    "# Plot\n",
    "plt.figure(figsize=(7, 4))\n",
    "plt.plot(range(1, len(step_errors)+1), step_errors, marker='o', color='purple')\n",
    "plt.axhline(4.0, linestyle='--', color='red', label=\"4m Threshold\")\n",
    "plt.title(f\"Step-wise Euclidean Average Distance Error: {avg_error:.4f} meters\")\n",
    "plt.xlabel(\"Step\")\n",
    "plt.ylabel(\"Distance Error\")\n",
    "plt.grid(True)\n",
    "plt.savefig(\"rf_output/stepwise_error_plot.png\")\n",
    "plt.show()\n",
    "\n",
    "# CSV\n",
    "rows = [{\n",
    "    'step': i+1,\n",
    "    'gt_x': gt[0],\n",
    "    'gt_y': gt[1],\n",
    "    'pred_x': pr[0],\n",
    "    'pred_y': pr[1],\n",
    "    'euclidean_distance': dist\n",
    "} for i, (gt, pr, dist) in enumerate(zip(true_gt_path, pred_path, step_errors))]\n",
    "\n",
    "df_error = pd.DataFrame(rows)\n",
    "df_error.to_csv(\"rf_output/stepwise_prediction_vs_gt.csv\", index=False)\n",
    "print(f\"✅ Exported: stepwise_prediction_vs_gt.csv - Average Error: {avg_error:.4f}\")"
   ]
  },
  {
   "cell_type": "code",
   "execution_count": null,
   "metadata": {},
   "outputs": [],
   "source": [
    "# === Full Combined Plot: History, Predicted Path, Ground Truth ===\n",
    "plt.figure(figsize=(8, 6))\n",
    "\n",
    "# Reference polygon\n",
    "draw_ref_lines()\n",
    "\n",
    "# Raw history (all past data)\n",
    "plt.plot(df['x_kalman'], df['y_kalman'], 'gray', alpha=0.5, label='Raw History')\n",
    "\n",
    "# Ground Truth path (green)\n",
    "plt.plot(true_gt_path[:, 0], true_gt_path[:, 1], 'g-o', label='Ground Truth')\n",
    "\n",
    "# Predicted path (blue dashed)\n",
    "plt.plot(pred_path[:, 0], pred_path[:, 1], 'b--o', label='Predicted Path')\n",
    "\n",
    "plt.title(\"Trajectory Overview: History, Ground Truth, and Prediction\")\n",
    "plt.xlabel(\"x\")\n",
    "plt.ylabel(\"y\")\n",
    "plt.legend()\n",
    "plt.grid(True)\n",
    "plt.tight_layout()\n",
    "plt.savefig(\"rf_output/full_trajectory_overview.png\")\n",
    "plt.show()"
   ]
  },
  {
   "cell_type": "code",
   "execution_count": null,
   "metadata": {},
   "outputs": [],
   "source": [
    "import matplotlib.animation as animation\n",
    "\n",
    "# Ensure output directory exists\n",
    "os.makedirs(\"rf_output\", exist_ok=True)\n",
    "\n",
    "# --- Reference polygon ---\n",
    "polygon_json = \"{\\\"l1\\\":[[27.05,12.7,0],[81.19,12.7,0]],\\\"l2\\\":[[81.19,12.7,0],[81.19,28.87,0]],\\\"l3\\\":[[81.19,28.87,0],[27.05,28.87,0]],\\\"l4\\\":[[27.05,28.87,0],[27.05,12.7,0]]}\"\n",
    "polygon = json.loads(polygon_json)\n",
    "\n",
    "def draw_ref_lines(ax):\n",
    "    for line in polygon.values():\n",
    "        x = [p[0] for p in line]\n",
    "        y = [p[1] for p in line]\n",
    "        ax.plot(x, y, 'k--', linewidth=1)\n",
    "\n",
    "# --- Data for animation ---\n",
    "x_hist = df['x_snap'].values\n",
    "y_hist = df['y_snap'].values\n",
    "\n",
    "# --- Setup figure ---\n",
    "fig, ax = plt.subplots(figsize=(10, 6))\n",
    "draw_ref_lines(ax)\n",
    "line_hist, = ax.plot([], [], 'gray', linewidth=2, label='History Trajectory')\n",
    "start_point = ax.scatter([], [], s=100, color='blue', marker='s', label='Start')\n",
    "end_point = ax.scatter([], [], s=100, color='red', marker='s', label='End')\n",
    "\n",
    "ax.set_xlim(20, 90)\n",
    "ax.set_ylim(10, 35)\n",
    "ax.set_xlabel('X_snap Coordinate')\n",
    "ax.set_ylabel('Y_snap Coordinate')\n",
    "ax.set_title('Animated History Trajectory')\n",
    "ax.legend()\n",
    "ax.grid(True)\n",
    "\n",
    "def init():\n",
    "    line_hist.set_data([], [])\n",
    "    start_point.set_offsets(np.empty((0, 2)))\n",
    "    end_point.set_offsets(np.empty((0, 2)))\n",
    "    return line_hist, start_point, end_point\n",
    "\n",
    "def update(frame):\n",
    "    line_hist.set_data(x_hist[:frame+1], y_hist[:frame+1])\n",
    "    start_point.set_offsets(np.array([[x_hist[0], y_hist[0]]]))\n",
    "    end_point.set_offsets(np.array([[x_hist[frame], y_hist[frame]]]))\n",
    "    return line_hist, start_point, end_point\n",
    "\n",
    "\n",
    "# --- Create animation ---\n",
    "ani = animation.FuncAnimation(\n",
    "    fig, update, frames=len(x_hist), init_func=init,\n",
    "    interval=100, blit=True, repeat=False\n",
    ")\n",
    "\n",
    "# --- Save MP4 ---\n",
    "video_path = \"rf_output/history_trajectory.mp4\"\n",
    "try:\n",
    "    ani.save(video_path, writer=animation.FFMpegWriter(fps=10))\n",
    "    print(f\"✅ Video saved at {video_path}\")\n",
    "except FileNotFoundError:\n",
    "    # --- Fallback: Save GIF instead ---\n",
    "    gif_path = \"rf_output/history_trajectory.gif\"\n",
    "    ani.save(gif_path, writer=\"pillow\", fps=10)\n",
    "    print(f\"⚠️ FFmpeg not found. Saved as GIF: {gif_path}\")\n"
   ]
  },
  {
   "cell_type": "code",
   "execution_count": null,
   "metadata": {},
   "outputs": [],
   "source": []
  }
 ],
 "metadata": {
  "kernelspec": {
   "display_name": "3.10.12",
   "language": "python",
   "name": "python3"
  },
  "language_info": {
   "codemirror_mode": {
    "name": "ipython",
    "version": 3
   },
   "file_extension": ".py",
   "mimetype": "text/x-python",
   "name": "python",
   "nbconvert_exporter": "python",
   "pygments_lexer": "ipython3",
   "version": "3.10.12"
  }
 },
 "nbformat": 4,
 "nbformat_minor": 2
}
